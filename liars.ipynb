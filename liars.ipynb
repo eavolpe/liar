{
 "cells": [
  {
   "cell_type": "code",
   "execution_count": 14,
   "id": "ebb30e98",
   "metadata": {},
   "outputs": [],
   "source": [
    "import numpy as np\n",
    "import scipy.stats\n",
    "import pandas as pd "
   ]
  },
  {
   "cell_type": "code",
   "execution_count": null,
   "id": "d7b7ecf6",
   "metadata": {},
   "outputs": [],
   "source": [
    "np.random.randint(high=7, low= 1, size=5)"
   ]
  },
  {
   "cell_type": "code",
   "execution_count": 6,
   "id": "a4eef78a",
   "metadata": {},
   "outputs": [],
   "source": [
    "# #hay una manera mas eficiente \n",
    "# #hagamos dados de 6 caras\n",
    "# dice_per_player = 5\n",
    "# players = 5\n",
    "# status = dict(zip([x for x in range(players)],\n",
    "#                   [np.random.randint(high=7, low= 1, size=dice_per_player) for x in range(players)]))"
   ]
  },
  {
   "cell_type": "code",
   "execution_count": 3,
   "id": "78fe318a",
   "metadata": {},
   "outputs": [],
   "source": [
    "status = np.random.randint(high=7,low=1,size = (5,players))"
   ]
  },
  {
   "cell_type": "code",
   "execution_count": 12,
   "id": "9c10f7f4",
   "metadata": {},
   "outputs": [
    {
     "data": {
      "text/plain": [
       "0.3815664947784185"
      ]
     },
     "execution_count": 12,
     "metadata": {},
     "output_type": "execute_result"
    }
   ],
   "source": [
    "(1-scipy.stats.binom.cdf(3, 5*players, 1/6)) "
   ]
  },
  {
   "cell_type": "code",
   "execution_count": 60,
   "id": "0d2c890e",
   "metadata": {},
   "outputs": [],
   "source": [
    "#esto es decir hay x numero de y en total_dice dados:\n",
    "#por ejemplo hay 5 seises en 30 dados \n",
    "# \n",
    "def probability_of(x,y,dados_restantes):\n",
    "    if y == 1:\n",
    "        prob =(1-scipy.stats.binom.cdf(x, dados_restantes, 1/6))+scipy.stats.binom.pmf(x,dados_restantes,1/6)\n",
    "        return prob\n",
    "    else:\n",
    "        prob = (1-scipy.stats.binom.cdf(x, dados_restantes, 1/3))+scipy.stats.binom.pmf(x,dados_restantes,1/3)\n",
    "        return prob\n",
    "        "
   ]
  },
  {
   "cell_type": "code",
   "execution_count": 19,
   "id": "e586d9cf",
   "metadata": {},
   "outputs": [
    {
     "data": {
      "text/plain": [
       "[0, 1, 2, 3, 4, 5]"
      ]
     },
     "execution_count": 19,
     "metadata": {},
     "output_type": "execute_result"
    }
   ],
   "source": [
    "list(range(6))"
   ]
  },
  {
   "cell_type": "code",
   "execution_count": 61,
   "id": "d34d4f67",
   "metadata": {},
   "outputs": [],
   "source": [
    "#quiero que en la coordenada (x,y) diga la probabilidad de decir x,y\n",
    "def jugadas_posibles_prob(dados_restantes):\n",
    "    matriz = np.zeros((dados_restantes,6))\n",
    "    for i in range(dados_restantes):\n",
    "        for j in range(6):\n",
    "            matriz[i,j] = probability_of(i+1,j+1,dados_restantes)\n",
    "    return matriz "
   ]
  },
  {
   "cell_type": "code",
   "execution_count": 52,
   "id": "2049135d",
   "metadata": {},
   "outputs": [],
   "source": [
    "np.set_printoptions(suppress=True)"
   ]
  },
  {
   "cell_type": "code",
   "execution_count": 67,
   "id": "503749a6",
   "metadata": {},
   "outputs": [
    {
     "data": {
      "text/plain": [
       "array([[0.99578728, 0.99999478, 0.99999478, 0.99999478, 0.99999478,\n",
       "        0.99999478],\n",
       "       [0.97051096, 0.99991656, 0.99991656, 0.99991656, 0.99991656,\n",
       "        0.99991656],\n",
       "       [0.89720963, 0.99934942, 0.99934942, 0.99934942, 0.99934942,\n",
       "        0.99934942],\n",
       "       [0.76038047, 0.99670276, 0.99670276, 0.99670276, 0.99670276,\n",
       "        0.99670276],\n",
       "       [0.57566112, 0.98777028, 0.98777028, 0.98777028, 0.98777028,\n",
       "        0.98777028],\n",
       "       [0.38355299, 0.96454583, 0.96454583, 0.96454583, 0.96454583,\n",
       "        0.96454583],\n",
       "       [0.22346288, 0.91616156, 0.91616156, 0.91616156, 0.91616156,\n",
       "        0.91616156],\n",
       "       [0.1136868 , 0.8332171 , 0.8332171 , 0.8332171 , 0.8332171 ,\n",
       "        0.8332171 ],\n",
       "       [0.05056556, 0.71398445, 0.71398445, 0.71398445, 0.71398445,\n",
       "        0.71398445],\n",
       "       [0.01970628, 0.56825564, 0.56825564, 0.56825564, 0.56825564,\n",
       "        0.56825564],\n",
       "       [0.00674539, 0.4152404 , 0.4152404 , 0.4152404 , 0.4152404 ,\n",
       "        0.4152404 ],\n",
       "       [0.00203234, 0.27613563, 0.27613563, 0.27613563, 0.27613563,\n",
       "        0.27613563],\n",
       "       [0.00053987, 0.16601103, 0.16601103, 0.16601103, 0.16601103,\n",
       "        0.16601103],\n",
       "       [0.00012657, 0.08977092, 0.08977092, 0.08977092, 0.08977092,\n",
       "        0.08977092],\n",
       "       [0.0000262 , 0.04348228, 0.04348228, 0.04348228, 0.04348228,\n",
       "        0.04348228],\n",
       "       [0.00000479, 0.018795  , 0.018795  , 0.018795  , 0.018795  ,\n",
       "        0.018795  ],\n",
       "       [0.00000077, 0.00722284, 0.00722284, 0.00722284, 0.00722284,\n",
       "        0.00722284],\n",
       "       [0.00000011, 0.00245783, 0.00245783, 0.00245783, 0.00245783,\n",
       "        0.00245783],\n",
       "       [0.00000001, 0.00073714, 0.00073714, 0.00073714, 0.00073714,\n",
       "        0.00073714],\n",
       "       [0.        , 0.00019376, 0.00019376, 0.00019376, 0.00019376,\n",
       "        0.00019376],\n",
       "       [0.        , 0.00004433, 0.00004433, 0.00004433, 0.00004433,\n",
       "        0.00004433],\n",
       "       [0.        , 0.00000875, 0.00000875, 0.00000875, 0.00000875,\n",
       "        0.00000875],\n",
       "       [0.        , 0.00000147, 0.00000147, 0.00000147, 0.00000147,\n",
       "        0.00000147],\n",
       "       [0.        , 0.00000021, 0.00000021, 0.00000021, 0.00000021,\n",
       "        0.00000021],\n",
       "       [0.        , 0.00000002, 0.00000002, 0.00000002, 0.00000002,\n",
       "        0.00000002],\n",
       "       [0.        , 0.        , 0.        , 0.        , 0.        ,\n",
       "        0.        ],\n",
       "       [0.        , 0.        , 0.        , 0.        , 0.        ,\n",
       "        0.        ],\n",
       "       [0.        , 0.        , 0.        , 0.        , 0.        ,\n",
       "        0.        ],\n",
       "       [0.        , 0.        , 0.        , 0.        , 0.        ,\n",
       "        0.        ],\n",
       "       [0.        , 0.        , 0.        , 0.        , 0.        ,\n",
       "        0.        ]])"
      ]
     },
     "execution_count": 67,
     "metadata": {},
     "output_type": "execute_result"
    }
   ],
   "source": [
    "jugadas_posibles_prob(30)"
   ]
  },
  {
   "cell_type": "code",
   "execution_count": null,
   "id": "b751487e",
   "metadata": {},
   "outputs": [],
   "source": [
    "#la mas probable y mas agresiva dado mis dados. Me pregunto si saber mis dados hace menos o mas probable hay que considerar el\n",
    "#nivel de riesgo al cual quiere exponerse la persona "
   ]
  }
 ],
 "metadata": {
  "kernelspec": {
   "display_name": "Python 3",
   "language": "python",
   "name": "python3"
  },
  "language_info": {
   "codemirror_mode": {
    "name": "ipython",
    "version": 3
   },
   "file_extension": ".py",
   "mimetype": "text/x-python",
   "name": "python",
   "nbconvert_exporter": "python",
   "pygments_lexer": "ipython3",
   "version": "3.8.8"
  }
 },
 "nbformat": 4,
 "nbformat_minor": 5
}
