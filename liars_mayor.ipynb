{
 "cells": [
  {
   "cell_type": "code",
   "execution_count": 1,
   "metadata": {},
   "outputs": [],
   "source": [
    "import numpy as np\n",
    "import scipy.stats\n",
    "import pandas as pd "
   ]
  },
  {
   "cell_type": "code",
   "execution_count": 2,
   "metadata": {},
   "outputs": [
    {
     "data": {
      "text/plain": [
       "array([5, 6, 1, 2, 4])"
      ]
     },
     "execution_count": 2,
     "metadata": {},
     "output_type": "execute_result"
    }
   ],
   "source": [
    "np.random.randint(high=7, low= 1, size=5)"
   ]
  },
  {
   "cell_type": "code",
   "execution_count": 6,
   "metadata": {},
   "outputs": [],
   "source": [
    "# #hay una manera mas eficiente \n",
    "# #hagamos dados de 6 caras\n",
    "# dice_per_player = 5\n",
    "# players = 5\n",
    "# status = dict(zip([x for x in range(players)],\n",
    "#                   [np.random.randint(high=7, low= 1, size=dice_per_player) for x in range(players)]))"
   ]
  },
  {
   "cell_type": "code",
   "execution_count": 3,
   "metadata": {},
   "outputs": [
    {
     "ename": "NameError",
     "evalue": "name 'players' is not defined",
     "output_type": "error",
     "traceback": [
      "\u001b[1;31m---------------------------------------------------------------------------\u001b[0m",
      "\u001b[1;31mNameError\u001b[0m                                 Traceback (most recent call last)",
      "\u001b[1;32m<ipython-input-3-c04547537484>\u001b[0m in \u001b[0;36m<module>\u001b[1;34m\u001b[0m\n\u001b[1;32m----> 1\u001b[1;33m \u001b[0mstatus\u001b[0m \u001b[1;33m=\u001b[0m \u001b[0mnp\u001b[0m\u001b[1;33m.\u001b[0m\u001b[0mrandom\u001b[0m\u001b[1;33m.\u001b[0m\u001b[0mrandint\u001b[0m\u001b[1;33m(\u001b[0m\u001b[0mhigh\u001b[0m\u001b[1;33m=\u001b[0m\u001b[1;36m7\u001b[0m\u001b[1;33m,\u001b[0m\u001b[0mlow\u001b[0m\u001b[1;33m=\u001b[0m\u001b[1;36m1\u001b[0m\u001b[1;33m,\u001b[0m\u001b[0msize\u001b[0m \u001b[1;33m=\u001b[0m \u001b[1;33m(\u001b[0m\u001b[1;36m5\u001b[0m\u001b[1;33m,\u001b[0m\u001b[0mplayers\u001b[0m\u001b[1;33m)\u001b[0m\u001b[1;33m)\u001b[0m\u001b[1;33m\u001b[0m\u001b[1;33m\u001b[0m\u001b[0m\n\u001b[0m",
      "\u001b[1;31mNameError\u001b[0m: name 'players' is not defined"
     ]
    }
   ],
   "source": [
    "status = np.random.randint(high=7,low=1,size = (5,players))"
   ]
  },
  {
   "cell_type": "code",
   "execution_count": 4,
   "metadata": {},
   "outputs": [
    {
     "ename": "NameError",
     "evalue": "name 'players' is not defined",
     "output_type": "error",
     "traceback": [
      "\u001b[1;31m---------------------------------------------------------------------------\u001b[0m",
      "\u001b[1;31mNameError\u001b[0m                                 Traceback (most recent call last)",
      "\u001b[1;32m<ipython-input-4-1e2ab0014ce5>\u001b[0m in \u001b[0;36m<module>\u001b[1;34m\u001b[0m\n\u001b[1;32m----> 1\u001b[1;33m \u001b[1;33m(\u001b[0m\u001b[1;36m1\u001b[0m\u001b[1;33m-\u001b[0m\u001b[0mscipy\u001b[0m\u001b[1;33m.\u001b[0m\u001b[0mstats\u001b[0m\u001b[1;33m.\u001b[0m\u001b[0mbinom\u001b[0m\u001b[1;33m.\u001b[0m\u001b[0mcdf\u001b[0m\u001b[1;33m(\u001b[0m\u001b[1;36m3\u001b[0m\u001b[1;33m,\u001b[0m \u001b[1;36m5\u001b[0m\u001b[1;33m*\u001b[0m\u001b[0mplayers\u001b[0m\u001b[1;33m,\u001b[0m \u001b[1;36m1\u001b[0m\u001b[1;33m/\u001b[0m\u001b[1;36m6\u001b[0m\u001b[1;33m)\u001b[0m\u001b[1;33m)\u001b[0m\u001b[1;33m\u001b[0m\u001b[1;33m\u001b[0m\u001b[0m\n\u001b[0m",
      "\u001b[1;31mNameError\u001b[0m: name 'players' is not defined"
     ]
    }
   ],
   "source": [
    "(1-scipy.stats.binom.cdf(3, 5*players, 1/6)) "
   ]
  },
  {
   "cell_type": "code",
   "execution_count": 5,
   "metadata": {},
   "outputs": [],
   "source": [
    "#esto es decir hay x numero de y en total_dice dados:\n",
    "#por ejemplo hay 5 seises en 30 dados \n",
    "# \n",
    "def probability_of(x,y,dados_restantes):\n",
    "    if y == 1:\n",
    "        prob =(1-scipy.stats.binom.cdf(x, dados_restantes, 1/6))+scipy.stats.binom.pmf(x,dados_restantes,1/6)\n",
    "        return prob\n",
    "    else:\n",
    "        prob = (1-scipy.stats.binom.cdf(x, dados_restantes, 1/3))+scipy.stats.binom.pmf(x,dados_restantes,1/3)\n",
    "        return prob\n",
    "        "
   ]
  },
  {
   "cell_type": "code",
   "execution_count": 19,
   "metadata": {},
   "outputs": [
    {
     "data": {
      "text/plain": [
       "[0, 1, 2, 3, 4, 5]"
      ]
     },
     "execution_count": 19,
     "metadata": {},
     "output_type": "execute_result"
    }
   ],
   "source": [
    "list(range(6))"
   ]
  },
  {
   "cell_type": "code",
   "execution_count": 6,
   "metadata": {},
   "outputs": [],
   "source": [
    "#quiero que en la coordenada (x,y) diga la probabilidad de decir x,y\n",
    "def jugadas_posibles_prob(dados_restantes):\n",
    "    matriz = np.zeros((dados_restantes,6))\n",
    "    for i in range(dados_restantes):\n",
    "        for j in range(6):\n",
    "            matriz[i,j] = probability_of(i+1,j+1,dados_restantes)\n",
    "    return matriz "
   ]
  },
  {
   "cell_type": "code",
   "execution_count": 7,
   "metadata": {},
   "outputs": [],
   "source": [
    "np.set_printoptions(suppress=True)"
   ]
  },
  {
   "cell_type": "code",
   "execution_count": 8,
   "metadata": {},
   "outputs": [
    {
     "data": {
      "text/plain": [
       "array([[0.99578728, 0.99999478, 0.99999478, 0.99999478, 0.99999478,\n",
       "        0.99999478],\n",
       "       [0.97051096, 0.99991656, 0.99991656, 0.99991656, 0.99991656,\n",
       "        0.99991656],\n",
       "       [0.89720963, 0.99934942, 0.99934942, 0.99934942, 0.99934942,\n",
       "        0.99934942],\n",
       "       [0.76038047, 0.99670276, 0.99670276, 0.99670276, 0.99670276,\n",
       "        0.99670276],\n",
       "       [0.57566112, 0.98777028, 0.98777028, 0.98777028, 0.98777028,\n",
       "        0.98777028],\n",
       "       [0.38355299, 0.96454583, 0.96454583, 0.96454583, 0.96454583,\n",
       "        0.96454583],\n",
       "       [0.22346288, 0.91616156, 0.91616156, 0.91616156, 0.91616156,\n",
       "        0.91616156],\n",
       "       [0.1136868 , 0.8332171 , 0.8332171 , 0.8332171 , 0.8332171 ,\n",
       "        0.8332171 ],\n",
       "       [0.05056556, 0.71398445, 0.71398445, 0.71398445, 0.71398445,\n",
       "        0.71398445],\n",
       "       [0.01970628, 0.56825564, 0.56825564, 0.56825564, 0.56825564,\n",
       "        0.56825564],\n",
       "       [0.00674539, 0.4152404 , 0.4152404 , 0.4152404 , 0.4152404 ,\n",
       "        0.4152404 ],\n",
       "       [0.00203234, 0.27613563, 0.27613563, 0.27613563, 0.27613563,\n",
       "        0.27613563],\n",
       "       [0.00053987, 0.16601103, 0.16601103, 0.16601103, 0.16601103,\n",
       "        0.16601103],\n",
       "       [0.00012657, 0.08977092, 0.08977092, 0.08977092, 0.08977092,\n",
       "        0.08977092],\n",
       "       [0.0000262 , 0.04348228, 0.04348228, 0.04348228, 0.04348228,\n",
       "        0.04348228],\n",
       "       [0.00000479, 0.018795  , 0.018795  , 0.018795  , 0.018795  ,\n",
       "        0.018795  ],\n",
       "       [0.00000077, 0.00722284, 0.00722284, 0.00722284, 0.00722284,\n",
       "        0.00722284],\n",
       "       [0.00000011, 0.00245783, 0.00245783, 0.00245783, 0.00245783,\n",
       "        0.00245783],\n",
       "       [0.00000001, 0.00073714, 0.00073714, 0.00073714, 0.00073714,\n",
       "        0.00073714],\n",
       "       [0.        , 0.00019376, 0.00019376, 0.00019376, 0.00019376,\n",
       "        0.00019376],\n",
       "       [0.        , 0.00004433, 0.00004433, 0.00004433, 0.00004433,\n",
       "        0.00004433],\n",
       "       [0.        , 0.00000875, 0.00000875, 0.00000875, 0.00000875,\n",
       "        0.00000875],\n",
       "       [0.        , 0.00000147, 0.00000147, 0.00000147, 0.00000147,\n",
       "        0.00000147],\n",
       "       [0.        , 0.00000021, 0.00000021, 0.00000021, 0.00000021,\n",
       "        0.00000021],\n",
       "       [0.        , 0.00000002, 0.00000002, 0.00000002, 0.00000002,\n",
       "        0.00000002],\n",
       "       [0.        , 0.        , 0.        , 0.        , 0.        ,\n",
       "        0.        ],\n",
       "       [0.        , 0.        , 0.        , 0.        , 0.        ,\n",
       "        0.        ],\n",
       "       [0.        , 0.        , 0.        , 0.        , 0.        ,\n",
       "        0.        ],\n",
       "       [0.        , 0.        , 0.        , 0.        , 0.        ,\n",
       "        0.        ],\n",
       "       [0.        , 0.        , 0.        , 0.        , 0.        ,\n",
       "        0.        ]])"
      ]
     },
     "execution_count": 8,
     "metadata": {},
     "output_type": "execute_result"
    }
   ],
   "source": [
    "jugadas_posibles_prob(30)"
   ]
  },
  {
   "cell_type": "code",
   "execution_count": 21,
   "metadata": {},
   "outputs": [],
   "source": [
    "def mayor_en_juego(a,b):\n",
    "    if a[1] == 1:\n",
    "        if b[1] == 1:\n",
    "            if a[0] > b[0]:\n",
    "                return True\n",
    "            else:\n",
    "                return False\n",
    "        else:\n",
    "            if 2*a[0] >= b[0]:\n",
    "                return True\n",
    "            else:\n",
    "                return False\n",
    "    else:\n",
    "        if b[1]==1:\n",
    "            if 2*b[0] < a[0]:\n",
    "                return True\n",
    "            else:\n",
    "                return False\n",
    "        else:\n",
    "            if a[0] > b[0]:\n",
    "                return True\n",
    "            elif a[1] > b[1]:\n",
    "                return True\n",
    "            else:\n",
    "                return False\n",
    "             \n",
    "            "
   ]
  },
  {
   "cell_type": "code",
   "execution_count": 27,
   "metadata": {},
   "outputs": [
    {
     "name": "stdout",
     "output_type": "stream",
     "text": [
      "False True False False\n"
     ]
    }
   ],
   "source": [
    "#todos los casos posibles\n",
    "print("
   ]
  },
  {
   "cell_type": "code",
   "execution_count": null,
   "metadata": {},
   "outputs": [],
   "source": [
    "#la mas probable y mas agresiva dado mis dados. Me pregunto si saber mis dados hace menos o mas probable hay que considerar el\n",
    "#nivel de riesgo al cual quiere exponerse la persona "
   ]
  }
 ],
 "metadata": {
  "kernelspec": {
   "display_name": "Python 3",
   "language": "python",
   "name": "python3"
  },
  "language_info": {
   "codemirror_mode": {
    "name": "ipython",
    "version": 3
   },
   "file_extension": ".py",
   "mimetype": "text/x-python",
   "name": "python",
   "nbconvert_exporter": "python",
   "pygments_lexer": "ipython3",
   "version": "3.8.3"
  }
 },
 "nbformat": 4,
 "nbformat_minor": 5
}
